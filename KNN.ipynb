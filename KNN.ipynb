{
 "cells": [
  {
   "cell_type": "code",
   "execution_count": 23,
   "metadata": {},
   "outputs": [],
   "source": [
    "from ucimlrepo import fetch_ucirepo\n",
    "from sklearn.metrics import confusion_matrix\n",
    "from sklearn.metrics import classification_report\n",
    "from sklearn.neighbors import KNeighborsClassifier\n",
    "from sklearn.preprocessing import MinMaxScaler, StandardScaler, RobustScaler\n",
    "from sklearn.model_selection import train_test_split\n",
    "import pandas as pd\n",
    "from sklearn.metrics import accuracy_score"
   ]
  },
  {
   "cell_type": "code",
   "execution_count": 2,
   "metadata": {},
   "outputs": [],
   "source": [
    "dry_bean = fetch_ucirepo(id=602)\n",
    "X = dry_bean.data.features\n",
    "y = dry_bean.data.targets"
   ]
  },
  {
   "cell_type": "code",
   "execution_count": 24,
   "metadata": {},
   "outputs": [],
   "source": [
    "X_train, X_test, y_train, y_test = train_test_split(X, y, test_size=0.33, random_state=42)"
   ]
  },
  {
   "cell_type": "code",
   "execution_count": 25,
   "metadata": {},
   "outputs": [],
   "source": [
    "scalers = {\n",
    "    'MinMaxScaler': MinMaxScaler(),\n",
    "    'Standardization': StandardScaler(),\n",
    "    'Robust Scaling': RobustScaler()\n",
    "}"
   ]
  },
  {
   "cell_type": "code",
   "execution_count": 26,
   "metadata": {},
   "outputs": [],
   "source": [
    "model = KNeighborsClassifier(n_neighbors = 5)"
   ]
  },
  {
   "cell_type": "code",
   "execution_count": 36,
   "metadata": {},
   "outputs": [],
   "source": [
    "accuracies = {}"
   ]
  },
  {
   "cell_type": "code",
   "execution_count": 86,
   "metadata": {},
   "outputs": [
    {
     "name": "stderr",
     "output_type": "stream",
     "text": [
      "c:\\Dev\\ML-LAB\\LAB-Study\\Lib\\site-packages\\sklearn\\neighbors\\_classification.py:238: DataConversionWarning: A column-vector y was passed when a 1d array was expected. Please change the shape of y to (n_samples,), for example using ravel().\n",
      "  return self._fit(X, y)\n",
      "c:\\Dev\\ML-LAB\\LAB-Study\\Lib\\site-packages\\sklearn\\neighbors\\_classification.py:238: DataConversionWarning: A column-vector y was passed when a 1d array was expected. Please change the shape of y to (n_samples,), for example using ravel().\n",
      "  return self._fit(X, y)\n",
      "c:\\Dev\\ML-LAB\\LAB-Study\\Lib\\site-packages\\sklearn\\neighbors\\_classification.py:238: DataConversionWarning: A column-vector y was passed when a 1d array was expected. Please change the shape of y to (n_samples,), for example using ravel().\n",
      "  return self._fit(X, y)\n"
     ]
    }
   ],
   "source": [
    "for name, scaler in scalers.items():\n",
    "    X_train_s = scaler.fit_transform(X_train)\n",
    "    X_test_s = scaler.transform(X_test)\n",
    "    model.fit(X = X_train_s, y = y_train)\n",
    "    y_pred = model.predict(X_test_s)\n",
    "    accuracies[name] = accuracy_score(y_pred = y_pred, y_true = y_test)  \n",
    "    # accuracy = accuracy_score(y_test, y_pred)  "
   ]
  },
  {
   "cell_type": "code",
   "execution_count": 87,
   "metadata": {},
   "outputs": [
    {
     "data": {
      "text/html": [
       "<div>\n",
       "<style scoped>\n",
       "    .dataframe tbody tr th:only-of-type {\n",
       "        vertical-align: middle;\n",
       "    }\n",
       "\n",
       "    .dataframe tbody tr th {\n",
       "        vertical-align: top;\n",
       "    }\n",
       "\n",
       "    .dataframe thead th {\n",
       "        text-align: right;\n",
       "    }\n",
       "</style>\n",
       "<table border=\"1\" class=\"dataframe\">\n",
       "  <thead>\n",
       "    <tr style=\"text-align: right;\">\n",
       "      <th></th>\n",
       "      <th>Area</th>\n",
       "      <th>Perimeter</th>\n",
       "      <th>MajorAxisLength</th>\n",
       "      <th>MinorAxisLength</th>\n",
       "      <th>AspectRatio</th>\n",
       "      <th>Eccentricity</th>\n",
       "      <th>ConvexArea</th>\n",
       "      <th>EquivDiameter</th>\n",
       "      <th>Extent</th>\n",
       "      <th>Solidity</th>\n",
       "      <th>Roundness</th>\n",
       "      <th>Compactness</th>\n",
       "      <th>ShapeFactor1</th>\n",
       "      <th>ShapeFactor2</th>\n",
       "      <th>ShapeFactor3</th>\n",
       "      <th>ShapeFactor4</th>\n",
       "    </tr>\n",
       "  </thead>\n",
       "  <tbody>\n",
       "    <tr>\n",
       "      <th>9480</th>\n",
       "      <td>48233</td>\n",
       "      <td>837.447</td>\n",
       "      <td>323.237083</td>\n",
       "      <td>191.463072</td>\n",
       "      <td>1.688248</td>\n",
       "      <td>0.805695</td>\n",
       "      <td>48934</td>\n",
       "      <td>247.814775</td>\n",
       "      <td>0.695401</td>\n",
       "      <td>0.985675</td>\n",
       "      <td>0.864250</td>\n",
       "      <td>0.766666</td>\n",
       "      <td>0.006702</td>\n",
       "      <td>0.001428</td>\n",
       "      <td>0.587776</td>\n",
       "      <td>0.992312</td>\n",
       "    </tr>\n",
       "    <tr>\n",
       "      <th>6775</th>\n",
       "      <td>56733</td>\n",
       "      <td>923.164</td>\n",
       "      <td>363.198193</td>\n",
       "      <td>200.095054</td>\n",
       "      <td>1.815128</td>\n",
       "      <td>0.834555</td>\n",
       "      <td>57297</td>\n",
       "      <td>268.765137</td>\n",
       "      <td>0.815821</td>\n",
       "      <td>0.990157</td>\n",
       "      <td>0.836542</td>\n",
       "      <td>0.739996</td>\n",
       "      <td>0.006402</td>\n",
       "      <td>0.001184</td>\n",
       "      <td>0.547594</td>\n",
       "      <td>0.993953</td>\n",
       "    </tr>\n",
       "    <tr>\n",
       "      <th>5766</th>\n",
       "      <td>45666</td>\n",
       "      <td>870.017</td>\n",
       "      <td>350.539258</td>\n",
       "      <td>166.393795</td>\n",
       "      <td>2.106685</td>\n",
       "      <td>0.880159</td>\n",
       "      <td>46356</td>\n",
       "      <td>241.130166</td>\n",
       "      <td>0.613016</td>\n",
       "      <td>0.985115</td>\n",
       "      <td>0.758136</td>\n",
       "      <td>0.687883</td>\n",
       "      <td>0.007676</td>\n",
       "      <td>0.001060</td>\n",
       "      <td>0.473184</td>\n",
       "      <td>0.996849</td>\n",
       "    </tr>\n",
       "    <tr>\n",
       "      <th>227</th>\n",
       "      <td>34623</td>\n",
       "      <td>675.213</td>\n",
       "      <td>228.194371</td>\n",
       "      <td>193.503300</td>\n",
       "      <td>1.179279</td>\n",
       "      <td>0.530035</td>\n",
       "      <td>34965</td>\n",
       "      <td>209.960408</td>\n",
       "      <td>0.759576</td>\n",
       "      <td>0.990219</td>\n",
       "      <td>0.954318</td>\n",
       "      <td>0.920095</td>\n",
       "      <td>0.006591</td>\n",
       "      <td>0.002914</td>\n",
       "      <td>0.846574</td>\n",
       "      <td>0.998347</td>\n",
       "    </tr>\n",
       "    <tr>\n",
       "      <th>7113</th>\n",
       "      <td>60716</td>\n",
       "      <td>984.188</td>\n",
       "      <td>404.263088</td>\n",
       "      <td>192.452036</td>\n",
       "      <td>2.100591</td>\n",
       "      <td>0.879415</td>\n",
       "      <td>61532</td>\n",
       "      <td>278.039587</td>\n",
       "      <td>0.819291</td>\n",
       "      <td>0.986739</td>\n",
       "      <td>0.787693</td>\n",
       "      <td>0.687769</td>\n",
       "      <td>0.006658</td>\n",
       "      <td>0.000919</td>\n",
       "      <td>0.473026</td>\n",
       "      <td>0.993635</td>\n",
       "    </tr>\n",
       "    <tr>\n",
       "      <th>...</th>\n",
       "      <td>...</td>\n",
       "      <td>...</td>\n",
       "      <td>...</td>\n",
       "      <td>...</td>\n",
       "      <td>...</td>\n",
       "      <td>...</td>\n",
       "      <td>...</td>\n",
       "      <td>...</td>\n",
       "      <td>...</td>\n",
       "      <td>...</td>\n",
       "      <td>...</td>\n",
       "      <td>...</td>\n",
       "      <td>...</td>\n",
       "      <td>...</td>\n",
       "      <td>...</td>\n",
       "      <td>...</td>\n",
       "    </tr>\n",
       "    <tr>\n",
       "      <th>5191</th>\n",
       "      <td>83266</td>\n",
       "      <td>1117.778</td>\n",
       "      <td>448.473710</td>\n",
       "      <td>237.747098</td>\n",
       "      <td>1.886348</td>\n",
       "      <td>0.847920</td>\n",
       "      <td>84030</td>\n",
       "      <td>325.603384</td>\n",
       "      <td>0.797239</td>\n",
       "      <td>0.990908</td>\n",
       "      <td>0.837465</td>\n",
       "      <td>0.726026</td>\n",
       "      <td>0.005386</td>\n",
       "      <td>0.000923</td>\n",
       "      <td>0.527113</td>\n",
       "      <td>0.994319</td>\n",
       "    </tr>\n",
       "    <tr>\n",
       "      <th>13418</th>\n",
       "      <td>39857</td>\n",
       "      <td>755.392</td>\n",
       "      <td>283.623668</td>\n",
       "      <td>179.430885</td>\n",
       "      <td>1.580685</td>\n",
       "      <td>0.774448</td>\n",
       "      <td>40330</td>\n",
       "      <td>225.272077</td>\n",
       "      <td>0.692154</td>\n",
       "      <td>0.988272</td>\n",
       "      <td>0.877748</td>\n",
       "      <td>0.794264</td>\n",
       "      <td>0.007116</td>\n",
       "      <td>0.001747</td>\n",
       "      <td>0.630855</td>\n",
       "      <td>0.997183</td>\n",
       "    </tr>\n",
       "    <tr>\n",
       "      <th>5390</th>\n",
       "      <td>90004</td>\n",
       "      <td>1156.599</td>\n",
       "      <td>456.836383</td>\n",
       "      <td>252.353553</td>\n",
       "      <td>1.810303</td>\n",
       "      <td>0.833583</td>\n",
       "      <td>90790</td>\n",
       "      <td>338.521273</td>\n",
       "      <td>0.783939</td>\n",
       "      <td>0.991343</td>\n",
       "      <td>0.845485</td>\n",
       "      <td>0.741012</td>\n",
       "      <td>0.005076</td>\n",
       "      <td>0.000944</td>\n",
       "      <td>0.549099</td>\n",
       "      <td>0.994035</td>\n",
       "    </tr>\n",
       "    <tr>\n",
       "      <th>860</th>\n",
       "      <td>38426</td>\n",
       "      <td>711.412</td>\n",
       "      <td>246.696608</td>\n",
       "      <td>198.555756</td>\n",
       "      <td>1.242455</td>\n",
       "      <td>0.593467</td>\n",
       "      <td>38799</td>\n",
       "      <td>221.191100</td>\n",
       "      <td>0.752094</td>\n",
       "      <td>0.990386</td>\n",
       "      <td>0.954097</td>\n",
       "      <td>0.896612</td>\n",
       "      <td>0.006420</td>\n",
       "      <td>0.002559</td>\n",
       "      <td>0.803913</td>\n",
       "      <td>0.998826</td>\n",
       "    </tr>\n",
       "    <tr>\n",
       "      <th>7270</th>\n",
       "      <td>63628</td>\n",
       "      <td>997.390</td>\n",
       "      <td>400.784151</td>\n",
       "      <td>204.033966</td>\n",
       "      <td>1.964301</td>\n",
       "      <td>0.860715</td>\n",
       "      <td>64287</td>\n",
       "      <td>284.629032</td>\n",
       "      <td>0.622583</td>\n",
       "      <td>0.989749</td>\n",
       "      <td>0.803763</td>\n",
       "      <td>0.710180</td>\n",
       "      <td>0.006299</td>\n",
       "      <td>0.000988</td>\n",
       "      <td>0.504356</td>\n",
       "      <td>0.990707</td>\n",
       "    </tr>\n",
       "  </tbody>\n",
       "</table>\n",
       "<p>9119 rows × 16 columns</p>\n",
       "</div>"
      ],
      "text/plain": [
       "        Area  Perimeter  MajorAxisLength  MinorAxisLength  AspectRatio  \\\n",
       "9480   48233    837.447       323.237083       191.463072     1.688248   \n",
       "6775   56733    923.164       363.198193       200.095054     1.815128   \n",
       "5766   45666    870.017       350.539258       166.393795     2.106685   \n",
       "227    34623    675.213       228.194371       193.503300     1.179279   \n",
       "7113   60716    984.188       404.263088       192.452036     2.100591   \n",
       "...      ...        ...              ...              ...          ...   \n",
       "5191   83266   1117.778       448.473710       237.747098     1.886348   \n",
       "13418  39857    755.392       283.623668       179.430885     1.580685   \n",
       "5390   90004   1156.599       456.836383       252.353553     1.810303   \n",
       "860    38426    711.412       246.696608       198.555756     1.242455   \n",
       "7270   63628    997.390       400.784151       204.033966     1.964301   \n",
       "\n",
       "       Eccentricity  ConvexArea  EquivDiameter    Extent  Solidity  Roundness  \\\n",
       "9480       0.805695       48934     247.814775  0.695401  0.985675   0.864250   \n",
       "6775       0.834555       57297     268.765137  0.815821  0.990157   0.836542   \n",
       "5766       0.880159       46356     241.130166  0.613016  0.985115   0.758136   \n",
       "227        0.530035       34965     209.960408  0.759576  0.990219   0.954318   \n",
       "7113       0.879415       61532     278.039587  0.819291  0.986739   0.787693   \n",
       "...             ...         ...            ...       ...       ...        ...   \n",
       "5191       0.847920       84030     325.603384  0.797239  0.990908   0.837465   \n",
       "13418      0.774448       40330     225.272077  0.692154  0.988272   0.877748   \n",
       "5390       0.833583       90790     338.521273  0.783939  0.991343   0.845485   \n",
       "860        0.593467       38799     221.191100  0.752094  0.990386   0.954097   \n",
       "7270       0.860715       64287     284.629032  0.622583  0.989749   0.803763   \n",
       "\n",
       "       Compactness  ShapeFactor1  ShapeFactor2  ShapeFactor3  ShapeFactor4  \n",
       "9480      0.766666      0.006702      0.001428      0.587776      0.992312  \n",
       "6775      0.739996      0.006402      0.001184      0.547594      0.993953  \n",
       "5766      0.687883      0.007676      0.001060      0.473184      0.996849  \n",
       "227       0.920095      0.006591      0.002914      0.846574      0.998347  \n",
       "7113      0.687769      0.006658      0.000919      0.473026      0.993635  \n",
       "...            ...           ...           ...           ...           ...  \n",
       "5191      0.726026      0.005386      0.000923      0.527113      0.994319  \n",
       "13418     0.794264      0.007116      0.001747      0.630855      0.997183  \n",
       "5390      0.741012      0.005076      0.000944      0.549099      0.994035  \n",
       "860       0.896612      0.006420      0.002559      0.803913      0.998826  \n",
       "7270      0.710180      0.006299      0.000988      0.504356      0.990707  \n",
       "\n",
       "[9119 rows x 16 columns]"
      ]
     },
     "execution_count": 87,
     "metadata": {},
     "output_type": "execute_result"
    }
   ],
   "source": [
    "X_train"
   ]
  },
  {
   "cell_type": "code",
   "execution_count": 88,
   "metadata": {},
   "outputs": [
    {
     "data": {
      "text/plain": [
       "{'MinMaxScaler': 0.9187444345503116,\n",
       " 'Standardization': 0.9196349065004452,\n",
       " 'Robust Scaling': 0.918967052537845}"
      ]
     },
     "execution_count": 88,
     "metadata": {},
     "output_type": "execute_result"
    }
   ],
   "source": [
    "accuracies"
   ]
  },
  {
   "cell_type": "code",
   "execution_count": 42,
   "metadata": {},
   "outputs": [],
   "source": [
    "import matplotlib.pyplot as plt\n",
    "# plt.plot()"
   ]
  },
  {
   "cell_type": "code",
   "execution_count": 44,
   "metadata": {},
   "outputs": [
    {
     "data": {
      "text/plain": [
       "dict_values([0.8764470169189671, 0.9203027604630454, 0.9167408726625111])"
      ]
     },
     "execution_count": 44,
     "metadata": {},
     "output_type": "execute_result"
    }
   ],
   "source": [
    "accuracies.values()"
   ]
  },
  {
   "cell_type": "code",
   "execution_count": 47,
   "metadata": {},
   "outputs": [
    {
     "data": {
      "text/plain": [
       "<BarContainer object of 3 artists>"
      ]
     },
     "execution_count": 47,
     "metadata": {},
     "output_type": "execute_result"
    },
    {
     "data": {
      "image/png": "[encoded data removed]",
      "text/plain": [
       "<Figure size 640x480 with 1 Axes>"
      ]
     },
     "metadata": {},
     "output_type": "display_data"
    }
   ],
   "source": [
    "plt.bar(accuracies.keys(), accuracies.values())"
   ]
  },
  {
   "cell_type": "code",
   "execution_count": 103,
   "metadata": {},
   "outputs": [],
   "source": [
    "rec = {\n",
    "    'Area': 42020,\n",
    "    'Perimeter': 674.16,\n",
    "    'MajorAxisLength': 208.81,\n",
    "    'MinorAxisLength': 162.14,\n",
    "    'AspectRatio': 1.29,\n",
    "    'Eccentricity': 0.5174,\n",
    "    'ConvexArea': 42530,\n",
    "    'EquivDiameter': 231.01,\n",
    "    'Extent': 0.7213,\n",
    "    'Solidity': 0.9880,\n",
    "    'Roundness': 0.5,\n",
    "    'Compactness': 0.5,\n",
    "    'ShapeFactor1': 0.4949,\n",
    "    'ShapeFactor2': 0.9637,\n",
    "    'ShapeFactor3': 0.9975,\n",
    "    'ShapeFactor4': 0.9128\n",
    "}"
   ]
  },
  {
   "cell_type": "code",
   "execution_count": 104,
   "metadata": {},
   "outputs": [],
   "source": [
    "rec_df = pd.DataFrame([rec])"
   ]
  },
  {
   "cell_type": "code",
   "execution_count": 105,
   "metadata": {},
   "outputs": [
    {
     "name": "stdout",
     "output_type": "stream",
     "text": [
      "BOMBAY\n"
     ]
    },
    {
     "name": "stderr",
     "output_type": "stream",
     "text": [
      "c:\\Dev\\ML-LAB\\LAB-Study\\Lib\\site-packages\\sklearn\\base.py:486: UserWarning: X has feature names, but KNeighborsClassifier was fitted without feature names\n",
      "  warnings.warn(\n"
     ]
    }
   ],
   "source": [
    "print(model.predict(rec_df)[0])"
   ]
  },
  {
   "cell_type": "code",
   "execution_count": 106,
   "metadata": {},
   "outputs": [
    {
     "name": "stdout",
     "output_type": "stream",
     "text": [
      "MinMaxScaler ['DERMASON']\n",
      "Standardization ['DERMASON']\n",
      "Robust Scaling ['DERMASON']\n"
     ]
    }
   ],
   "source": [
    "for name, scaler in scalers.items():\n",
    "    print(name, model.predict(scaler.transform(rec_df)))"
   ]
  }
 ],
 "metadata": {
  "kernelspec": {
   "display_name": "LAB-Study",
   "language": "python",
   "name": "python3"
  },
  "language_info": {
   "codemirror_mode": {
    "name": "ipython",
    "version": 3
   },
   "file_extension": ".py",
   "mimetype": "text/x-python",
   "name": "python",
   "nbconvert_exporter": "python",
   "pygments_lexer": "ipython3",
   "version": "3.12.3"
  }
 },
 "nbformat": 4,
 "nbformat_minor": 2
}
